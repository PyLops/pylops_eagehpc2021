{
 "cells": [
  {
   "cell_type": "markdown",
   "id": "ebbcc73b",
   "metadata": {},
   "source": [
    "# PyVISTA 3D Visualization of seismic data"
   ]
  },
  {
   "cell_type": "markdown",
   "id": "61a1a462",
   "metadata": {},
   "source": [
    "In the notebook we use PyVista to create 3D plots of the seismic data used for the time benchmarking of ChirpRadon3D and PhaseShift3D operators.\n",
    "\n",
    "**Note**: .png files can only be creating running this as a Python script or in a IPython console."
   ]
  },
  {
   "cell_type": "code",
   "execution_count": 1,
   "id": "2de9d098",
   "metadata": {},
   "outputs": [
    {
     "name": "stdout",
     "output_type": "stream",
     "text": [
      "\n",
      "--------------------------------------------------------------------------------\n",
      "  Date: Sat Jul 24 11:54:58 2021 +03\n",
      "\n",
      "                OS : Darwin\n",
      "            CPU(s) : 16\n",
      "           Machine : x86_64\n",
      "      Architecture : 64bit\n",
      "       Environment : Jupyter\n",
      "        GPU Vendor : ATI Technologies Inc.\n",
      "      GPU Renderer : AMD Radeon Pro 5500M OpenGL Engine\n",
      "       GPU Version : 4.1 ATI-3.10.19\n",
      "\n",
      "  Python 3.8.8 (default, Apr 13 2021, 12:59:45)  [Clang 10.0.0 ]\n",
      "\n",
      "           pyvista : 0.31.3\n",
      "               vtk : 8.2.0\n",
      "             numpy : 1.19.2\n",
      "           imageio : 2.9.0\n",
      "           appdirs : 1.4.4\n",
      "            scooby : 0.5.7\n",
      "            meshio : 4.4.6\n",
      "        matplotlib : 3.3.4\n",
      "             PyQt5 : 5.9.2\n",
      "           IPython : 7.22.0\n",
      "        ipyvtklink : 0.2.1\n",
      "             scipy : 1.6.2\n",
      "              tqdm : 4.61.2\n",
      "\n",
      "  Intel(R) Math Kernel Library Version 2019.0.4 Product Build 20190411 for\n",
      "  Intel(R) 64 architecture applications\n",
      "--------------------------------------------------------------------------------\n"
     ]
    }
   ],
   "source": [
    "import pyvista as pv\n",
    "\n",
    "from pylops.utils.seismicevents import *\n",
    "from pylops.utils.wavelets import *\n",
    "from pylops.utils.tapers import *\n",
    "from pylops.basicoperators import *\n",
    "from pylops.signalprocessing import *\n",
    "from pylops.waveeqprocessing import *\n",
    "\n",
    "pv.set_plot_theme(\"document\")\n",
    "print(pv.Report())"
   ]
  },
  {
   "cell_type": "markdown",
   "id": "93e8d048",
   "metadata": {},
   "source": [
    "## ChirpRadon3D"
   ]
  },
  {
   "cell_type": "code",
   "execution_count": 2,
   "id": "af35bf8d",
   "metadata": {},
   "outputs": [],
   "source": [
    "par = {'ot': 0,    'dt': 0.004, 'nt': 201,\n",
    "       'ox': -625, 'dx': 12.5, 'nx': 101,\n",
    "       'oy': -625, 'dy': 12.5, 'ny': 101,\n",
    "       'f0': 20}\n",
    "theta = [30, ]\n",
    "phi = [0, ]\n",
    "t0 = [0.5, ]\n",
    "amp = [1., ]\n",
    "\n",
    "# Create axis\n",
    "t, t2, x, y = makeaxis(par)\n",
    "dt, dx, dy = par['dt'], par['dx'], par['dy']\n",
    "\n",
    "# Create wavelet\n",
    "wav = ricker(t[:41], f0=par['f0'])[0]\n",
    "\n",
    "# Generate model\n",
    "_, d = linear3d(x, y, t, 1500., t0, theta, phi, amp, wav)\n",
    "\n",
    "npy, pymax = par['ny'], 5e-4\n",
    "npx, pxmax = par['nx'], 5e-4\n",
    "\n",
    "py = np.linspace(-pymax, pymax, npy)\n",
    "px = np.linspace(-pxmax, pxmax, npx)\n",
    "dpy = np.abs(py[1]-py[0])\n",
    "dpx = np.abs(px[1]-px[0])\n",
    "\n",
    "R3Op = ChirpRadon3D(t, y, x, (pymax*dy/dt, pxmax*dx/dt), dtype='float64')\n",
    "\n",
    "dL_chirp = R3Op * d.ravel()\n",
    "dadj_chirp = R3Op.H * dL_chirp\n",
    "dinv_chirp = R3Op.inverse(dL_chirp)\n",
    "\n",
    "dL_chirp = dL_chirp.reshape(par['ny'], par['nx'], par['nt'])\n",
    "dadj_chirp = dadj_chirp.reshape(par['ny'], par['nx'], par['nt'])\n",
    "dinv_chirp = dinv_chirp.reshape(par['ny'], par['nx'], par['nt'])"
   ]
  },
  {
   "cell_type": "code",
   "execution_count": 3,
   "id": "aebe9c7c",
   "metadata": {
    "scrolled": true
   },
   "outputs": [
    {
     "data": {
      "application/vnd.jupyter.widget-view+json": {
       "model_id": "e9497563e53f4405ace4e3b2f2e654d5",
       "version_major": 2,
       "version_minor": 0
      },
      "text/plain": [
       "ViewInteractiveWidget(height=768, layout=Layout(height='auto', width='100%'), width=1024)"
      ]
     },
     "metadata": {},
     "output_type": "display_data"
    }
   ],
   "source": [
    "grid = pv.UniformGrid()\n",
    "grid.dimensions = np.array(d.shape) + 1\n",
    "grid.origin = (0, 0, 0)  # The bottom left corner of the data set\n",
    "grid.spacing = (1, 1, 1)  # These are the cell sizes along each axis\n",
    "grid.cell_arrays[\"values\"] = np.asfortranarray(d).flatten(order=\"F\")#d.flatten(order=\"F\")  # Flatten the array!\n",
    "\n",
    "slices = grid.slice_orthogonal(z=int(t0[0]/par['dt']))\n",
    "\n",
    "#slices.plot(notebook=True, cmap='seismic', clim=[-1,1], \n",
    "#            #background='white', \n",
    "#            opacity=1, lighting=True)\n",
    "\n",
    "plotter = pv.Plotter(off_screen=True)\n",
    "plotter.add_mesh(slices, cmap='seismic', clim=[-1,1], \n",
    "                 opacity=1, lighting=True)\n",
    "plotter.show(screenshot='Data.png')"
   ]
  },
  {
   "cell_type": "code",
   "execution_count": 4,
   "id": "66a70ef1",
   "metadata": {
    "scrolled": false
   },
   "outputs": [
    {
     "data": {
      "application/vnd.jupyter.widget-view+json": {
       "model_id": "26c26ebce129495f8096db516948b580",
       "version_major": 2,
       "version_minor": 0
      },
      "text/plain": [
       "ViewInteractiveWidget(height=768, layout=Layout(height='auto', width='100%'), width=1024)"
      ]
     },
     "metadata": {},
     "output_type": "display_data"
    }
   ],
   "source": [
    "grid = pv.UniformGrid()\n",
    "grid.dimensions = np.array(dL_chirp.shape) + 1\n",
    "grid.origin = (0, 0, 0)  # The botom left corner of the data set\n",
    "grid.spacing = (1, 1, 1)  # These are the cell sizes along each axis\n",
    "grid.cell_arrays[\"values\"] = np.asfortranarray(dL_chirp).flatten(order=\"F\")#d.flatten(order=\"F\")  # Flatten the array!\n",
    "\n",
    "slices = grid.slice_orthogonal(z=int(t0[0]/par['dt']))\n",
    "plotter = pv.Plotter(off_screen=True)\n",
    "plotter.add_mesh(slices, cmap='seismic', clim=[-1e4,1e4], \n",
    "                 opacity=1, lighting=True)\n",
    "plotter.show(screenshot='Radon.png')"
   ]
  },
  {
   "cell_type": "markdown",
   "id": "7dd45ece",
   "metadata": {},
   "source": [
    "## PhaseShift"
   ]
  },
  {
   "cell_type": "code",
   "execution_count": 5,
   "id": "a386aee8",
   "metadata": {},
   "outputs": [],
   "source": [
    "par = {'ox':-1000, 'dx':20, 'nx':101,\n",
    "       'oy':-1000, 'dy':20, 'ny':101,\n",
    "       'ot':0, 'dt':0.004, 'nt':151,\n",
    "       'f0': 20, 'nfmax': 210}\n",
    "\n",
    "# Create axis\n",
    "t, t2, x, y = makeaxis(par)\n",
    "\n",
    "# Create wavelet\n",
    "wav = ricker(np.arange(41) * par['dt'], f0=par['f0'])[0]\n",
    "\n",
    "vrms = [2000, 2200, 3000]\n",
    "t0 = [0.1, 0.2, 0.25]\n",
    "amp = [1., 0.6, -2.]\n",
    "\n",
    "_, m = hyperbolic3d(x, y, t, t0, vrms, vrms, amp, wav)\n",
    "\n",
    "pad = 11\n",
    "taper = taper3d(par['nt'], (par['ny'], par['nx']), (3, 3))\n",
    "mpad = np.pad(m*taper, ((pad, pad), (pad, pad), (0, 0)), mode='constant')\n",
    "\n",
    "vel = 1500.\n",
    "zprop = 200\n",
    "freq = np.fft.rfftfreq(par['nt'], par['dt'])\n",
    "kx = np.fft.fftshift(np.fft.fftfreq(par['nx'] + 2*pad, par['dx']))\n",
    "ky = np.fft.fftshift(np.fft.fftfreq(par['ny'] + 2*pad, par['dy']))\n",
    "Pop = PhaseShift(vel, zprop, par['nt'], freq, kx, ky)\n",
    "\n",
    "mdown = Pop * mpad.transpose(2, 1, 0).ravel()\n",
    "\n",
    "mup = Pop.H * mdown.ravel()\n",
    "\n",
    "mdown = np.real(mdown.reshape(par['nt'],\n",
    "                              par['nx'] + 2 * pad,\n",
    "                              par['ny'] + 2 * pad)[:, pad:-pad, pad:-pad])\n",
    "mup = np.real(mup.reshape(par['nt'],\n",
    "                          par['nx'] + 2 * pad,\n",
    "                          par['ny'] + 2 * pad)[:, pad:-pad, pad:-pad])\n",
    "mdown = mdown.transpose(1, 2, 0)\n",
    "mup = mup.transpose(1, 2, 0)"
   ]
  },
  {
   "cell_type": "code",
   "execution_count": 6,
   "id": "0b863599",
   "metadata": {},
   "outputs": [
    {
     "data": {
      "application/vnd.jupyter.widget-view+json": {
       "model_id": "ddc287b137534284827f14180cff2451",
       "version_major": 2,
       "version_minor": 0
      },
      "text/plain": [
       "ViewInteractiveWidget(height=768, layout=Layout(height='auto', width='100%'), width=1024)"
      ]
     },
     "metadata": {},
     "output_type": "display_data"
    }
   ],
   "source": [
    "grid = pv.UniformGrid()\n",
    "grid.dimensions = np.array(m.shape) + 1\n",
    "grid.origin = (0, 0, 0)  # The bottom left corner of the data set\n",
    "grid.spacing = (1, 1, 1)  # These are the cell sizes along each axis\n",
    "grid.cell_arrays[\"values\"] = np.flip(m, axis=-1).flatten(order=\"F\")  # Flatten the array!\n",
    "\n",
    "slices = grid.slice_orthogonal()\n",
    "plotter = pv.Plotter(off_screen=True)\n",
    "plotter.add_mesh(slices, cmap='seismic', clim=[-2,2], \n",
    "                 opacity=1, lighting=True)\n",
    "plotter.show(screenshot='PhaseShift_Data.png')"
   ]
  },
  {
   "cell_type": "code",
   "execution_count": null,
   "id": "089635be",
   "metadata": {},
   "outputs": [],
   "source": [
    "# Create the spatial reference\n",
    "grid = pv.UniformGrid()\n",
    "\n",
    "# Set the grid dimensions: shape + 1 because we want to inject our values on\n",
    "#   the CELL data\n",
    "grid.dimensions = np.array(mdown.shape) + 1\n",
    "\n",
    "# Edit the spatial reference\n",
    "grid.origin = (0, 0, 0)  # The bottom left corner of the data set\n",
    "grid.spacing = (1, 1, 1)  # These are the cell sizes along each axis\n",
    "\n",
    "# Add the data values to the cell data\n",
    "grid.cell_arrays[\"values\"] = np.flip(mdown, axis=-1).flatten(order=\"F\")  # Flatten the array!\n",
    "\n",
    "slices = grid.slice_orthogonal()\n",
    "\n",
    "#slices.plot(notebook=True, cmap='seismic', clim=[-1,1], \n",
    "#            #background='white', \n",
    "#            opacity=1, lighting=True)\n",
    "\n",
    "plotter = pv.Plotter(off_screen=True)\n",
    "plotter.add_mesh(slices, cmap='seismic', clim=[-2,2], \n",
    "                 opacity=1, lighting=True)\n",
    "plotter.show(screenshot='PhaseShift_Forward.png')"
   ]
  },
  {
   "cell_type": "code",
   "execution_count": null,
   "id": "444788a9",
   "metadata": {},
   "outputs": [],
   "source": [
    "# Create the spatial reference\n",
    "grid = pv.UniformGrid()\n",
    "\n",
    "# Set the grid dimensions: shape + 1 because we want to inject our values on\n",
    "#   the CELL data\n",
    "grid.dimensions = np.array(mup.shape) + 1\n",
    "\n",
    "# Edit the spatial reference\n",
    "grid.origin = (0, 0, 0)  # The bottom left corner of the data set\n",
    "grid.spacing = (1, 1, 1)  # These are the cell sizes along each axis\n",
    "\n",
    "# Add the data values to the cell data\n",
    "grid.cell_arrays[\"values\"] = np.flip(mup, axis=-1).flatten(order=\"F\")  # Flatten the array!\n",
    "\n",
    "slices = grid.slice_orthogonal()\n",
    "\n",
    "#slices.plot(notebook=True, cmap='seismic', clim=[-1,1], \n",
    "#            #background='white', \n",
    "#            opacity=1, lighting=True)\n",
    "\n",
    "plotter = pv.Plotter(off_screen=True)\n",
    "plotter.add_mesh(slices, cmap='seismic', clim=[-2,2], \n",
    "                 opacity=1, lighting=True)\n",
    "plotter.show(screenshot='PhaseShift_Backward.png')"
   ]
  }
 ],
 "metadata": {
  "kernelspec": {
   "display_name": "Python 3",
   "language": "python",
   "name": "python3"
  },
  "language_info": {
   "codemirror_mode": {
    "name": "ipython",
    "version": 3
   },
   "file_extension": ".py",
   "mimetype": "text/x-python",
   "name": "python",
   "nbconvert_exporter": "python",
   "pygments_lexer": "ipython3",
   "version": "3.8.8"
  }
 },
 "nbformat": 4,
 "nbformat_minor": 5
}
