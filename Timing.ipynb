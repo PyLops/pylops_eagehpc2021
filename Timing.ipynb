{
 "cells": [
  {
   "cell_type": "markdown",
   "metadata": {
    "id": "Zw9q0J3wPec9"
   },
   "source": [
    "# Pylops - basic linear operators on GPU with cupy"
   ]
  },
  {
   "cell_type": "markdown",
   "metadata": {
    "id": "vB2RGSN2cCs3"
   },
   "source": [
    "In this notebook I will show how to use some of the basic linear operators implemented in *Pylops* and test both their numpy and cupy backends."
   ]
  },
  {
   "cell_type": "code",
   "execution_count": 1,
   "metadata": {
    "colab": {
     "base_uri": "https://localhost:8080/"
    },
    "id": "BRQ0wMDU7jiS",
    "outputId": "cc6b0921-2df8-4af0-bc68-4abebcfdd12b"
   },
   "outputs": [
    {
     "name": "stdout",
     "output_type": "stream",
     "text": [
      "Mon Feb 15 09:18:58 2021       \r\n",
      "+-----------------------------------------------------------------------------+\r\n",
      "| NVIDIA-SMI 460.39       Driver Version: 460.39       CUDA Version: 11.2     |\r\n",
      "|-------------------------------+----------------------+----------------------+\r\n",
      "| GPU  Name        Persistence-M| Bus-Id        Disp.A | Volatile Uncorr. ECC |\r\n",
      "| Fan  Temp  Perf  Pwr:Usage/Cap|         Memory-Usage | GPU-Util  Compute M. |\r\n",
      "|                               |                      |               MIG M. |\r\n",
      "|===============================+======================+======================|\r\n",
      "|   0  Quadro RTX 4000     Off  | 00000000:65:00.0  On |                  N/A |\r\n",
      "| 30%   47C    P0    51W / 125W |   2055MiB /  7979MiB |      2%      Default |\r\n",
      "|                               |                      |                  N/A |\r\n",
      "+-------------------------------+----------------------+----------------------+\r\n",
      "                                                                               \r\n",
      "+-----------------------------------------------------------------------------+\r\n",
      "| Processes:                                                                  |\r\n",
      "|  GPU   GI   CI        PID   Type   Process name                  GPU Memory |\r\n",
      "|        ID   ID                                                   Usage      |\r\n",
      "|=============================================================================|\r\n",
      "|    0   N/A  N/A      1590      G   /usr/lib/xorg/Xorg                144MiB |\r\n",
      "|    0   N/A  N/A      1642      G   /usr/bin/gnome-shell               66MiB |\r\n",
      "|    0   N/A  N/A      2986      G   ..._14870.log --shared-files       45MiB |\r\n",
      "|    0   N/A  N/A     13176      G   /usr/lib/xorg/Xorg                880MiB |\r\n",
      "|    0   N/A  N/A     13340      G   /usr/bin/gnome-shell              237MiB |\r\n",
      "|    0   N/A  N/A     14424      G   /usr/lib/firefox/firefox           98MiB |\r\n",
      "|    0   N/A  N/A     14538      G   /usr/lib/firefox/firefox            2MiB |\r\n",
      "|    0   N/A  N/A     14596      G   /usr/lib/firefox/firefox           56MiB |\r\n",
      "|    0   N/A  N/A     15710      G   ...acnnk5/bin/glnxa64/MATLAB      120MiB |\r\n",
      "|    0   N/A  N/A     28881      G   /usr/lib/firefox/firefox           98MiB |\r\n",
      "|    0   N/A  N/A     29108      G   /usr/lib/firefox/firefox           98MiB |\r\n",
      "|    0   N/A  N/A     29967      G   /usr/lib/firefox/firefox           98MiB |\r\n",
      "|    0   N/A  N/A     31043      G   gnome-control-center               99MiB |\r\n",
      "+-----------------------------------------------------------------------------+\r\n"
     ]
    }
   ],
   "source": [
    "!nvidia-smi"
   ]
  },
  {
   "cell_type": "code",
   "execution_count": 2,
   "metadata": {
    "colab": {
     "base_uri": "https://localhost:8080/"
    },
    "id": "U3ZG-RRbomAk",
    "outputId": "5527cf60-c736-402b-abc7-19bb8e3e38fa"
   },
   "outputs": [
    {
     "name": "stdout",
     "output_type": "stream",
     "text": [
      "nvcc: NVIDIA (R) Cuda compiler driver\r\n",
      "Copyright (c) 2005-2019 NVIDIA Corporation\r\n",
      "Built on Wed_Oct_23_19:24:38_PDT_2019\r\n",
      "Cuda compilation tools, release 10.2, V10.2.89\r\n"
     ]
    }
   ],
   "source": [
    "!nvcc --version"
   ]
  },
  {
   "cell_type": "code",
   "execution_count": 3,
   "metadata": {
    "colab": {
     "base_uri": "https://localhost:8080/"
    },
    "id": "Y8yPDy420evR",
    "outputId": "b8f6e422-6aef-4533-b01b-332c5bb44210"
   },
   "outputs": [
    {
     "name": "stdout",
     "output_type": "stream",
     "text": [
      "Architecture:        x86_64\r\n",
      "CPU op-mode(s):      32-bit, 64-bit\r\n",
      "Byte Order:          Little Endian\r\n",
      "CPU(s):              8\r\n",
      "On-line CPU(s) list: 0-7\r\n",
      "Thread(s) per core:  1\r\n",
      "Core(s) per socket:  8\r\n",
      "Socket(s):           1\r\n",
      "NUMA node(s):        1\r\n",
      "Vendor ID:           GenuineIntel\r\n",
      "CPU family:          6\r\n",
      "Model:               85\r\n",
      "Model name:          Intel(R) Xeon(R) W-2145 CPU @ 3.70GHz\r\n",
      "Stepping:            4\r\n",
      "CPU MHz:             1900.006\r\n",
      "CPU max MHz:         4500.0000\r\n",
      "CPU min MHz:         1200.0000\r\n",
      "BogoMIPS:            7399.70\r\n",
      "Virtualization:      VT-x\r\n",
      "L1d cache:           32K\r\n",
      "L1i cache:           32K\r\n",
      "L2 cache:            1024K\r\n",
      "L3 cache:            11264K\r\n",
      "NUMA node0 CPU(s):   0-7\r\n",
      "Flags:               fpu vme de pse tsc msr pae mce cx8 apic sep mtrr pge mca cmov pat pse36 clflush dts acpi mmx fxsr sse sse2 ss ht tm pbe syscall nx pdpe1gb rdtscp lm constant_tsc art arch_perfmon pebs bts rep_good nopl xtopology nonstop_tsc cpuid aperfmperf pni pclmulqdq dtes64 monitor ds_cpl vmx smx est tm2 ssse3 sdbg fma cx16 xtpr pdcm pcid dca sse4_1 sse4_2 x2apic movbe popcnt tsc_deadline_timer aes xsave avx f16c rdrand lahf_lm abm 3dnowprefetch cpuid_fault epb cat_l3 cdp_l3 invpcid_single pti intel_ppin ssbd mba ibrs ibpb stibp tpr_shadow vnmi flexpriority ept vpid ept_ad fsgsbase tsc_adjust bmi1 hle avx2 smep bmi2 erms invpcid rtm cqm mpx rdt_a avx512f avx512dq rdseed adx smap clflushopt clwb intel_pt avx512cd avx512bw avx512vl xsaveopt xsavec xgetbv1 xsaves cqm_llc cqm_occup_llc cqm_mbm_total cqm_mbm_local dtherm ida arat pln pts md_clear flush_l1d\r\n"
     ]
    }
   ],
   "source": [
    "!lscpu"
   ]
  },
  {
   "cell_type": "code",
   "execution_count": 4,
   "metadata": {
    "id": "WJ3vTlJ7gHnQ"
   },
   "outputs": [],
   "source": [
    "%load_ext autoreload\n",
    "%autoreload 2\n",
    "%matplotlib inline\n",
    "\n",
    "import timeit\n",
    "import os\n",
    "import numpy as np\n",
    "import cupy as cp\n",
    "import scipy as sp\n",
    "import matplotlib.pyplot as plt\n",
    "import pandas as pd\n",
    "import seaborn as sns\n",
    "\n",
    "from scipy.sparse.linalg import inv, lsqr\n",
    "from scipy.sparse import rand\n",
    "\n",
    "from pylops.utils import dottest\n",
    "from pylops import LinearOperator\n",
    "from pylops.basicoperators import *\n",
    "from pylops.optimization.solver import cgls\n",
    "from pylops.optimization.leastsquares import *\n",
    "\n",
    "plt.style.use('seaborn-dark')"
   ]
  },
  {
   "cell_type": "code",
   "execution_count": 5,
   "metadata": {
    "colab": {
     "base_uri": "https://localhost:8080/",
     "height": 37
    },
    "id": "NfTWAwO-7dqU",
    "outputId": "ae253f0a-7799-4a32-d2cb-37d270c14676"
   },
   "outputs": [
    {
     "data": {
      "text/plain": [
       "'8.4.0'"
      ]
     },
     "execution_count": 5,
     "metadata": {},
     "output_type": "execute_result"
    }
   ],
   "source": [
    "cp.__version__"
   ]
  },
  {
   "cell_type": "code",
   "execution_count": 6,
   "metadata": {
    "id": "D6SqvAFwGZs6"
   },
   "outputs": [],
   "source": [
    "def timing(cmd_setup, df, method, number=10, repeat=5):\n",
    "    # _matvec\n",
    "    mat_np = 'Op._matvec(x)'\n",
    "    mat_cp = 'cOp._matvec(xc)'\n",
    "\n",
    "    # _matvec\n",
    "    rmat_np = 'Op._rmatvec(y)'\n",
    "    rmat_cp = 'cOp._rmatvec(yc)'\n",
    "\n",
    "    # dry run\n",
    "    timeit.repeat(mat_cp, setup=cmd_setup, number=1, repeat=1)\n",
    "    timeit.repeat(rmat_cp, setup=cmd_setup, number=1, repeat=1)\n",
    "\n",
    "    # timing\n",
    "    tm_ = 1.e3 * np.array(timeit.repeat(mat_np, setup=cmd_setup,\n",
    "                                      number=number, repeat=repeat))\n",
    "    trm_ = 1.e3 * np.array(timeit.repeat(rmat_np, setup=cmd_setup,\n",
    "                                       number=number, repeat=repeat))\n",
    "    for i in range(repeat):\n",
    "        df.loc[len(df)] = [method, True, 'np', tm_[i]]\n",
    "    for i in range(repeat):\n",
    "        df.loc[len(df)] = [method, False, 'np', + trm_[i]]\n",
    "\n",
    "    tm_ = 1.e3 * np.array(timeit.repeat(mat_cp, setup=cmd_setup,\n",
    "                                      number=number, repeat=repeat))\n",
    "    trm_ = 1.e3 * np.array(timeit.repeat(rmat_cp, setup=cmd_setup,\n",
    "                                       number=number, repeat=repeat))\n",
    "    for i in range(repeat):\n",
    "        df.loc[len(df)] = [method, True, 'cp', tm_[i]]\n",
    "    for i in range(repeat):\n",
    "        df.loc[len(df)] = [method, False, 'cp', trm_[i]]\n",
    "    return df"
   ]
  },
  {
   "cell_type": "markdown",
   "metadata": {
    "id": "NoTH5zUBVbP4"
   },
   "source": [
    "# Elementary operators"
   ]
  },
  {
   "cell_type": "code",
   "execution_count": 7,
   "metadata": {
    "id": "fH1ohMVv8Cs9"
   },
   "outputs": [],
   "source": [
    "df = pd.DataFrame(columns=['Method', 'Forw', 'Backend', 'Time'])"
   ]
  },
  {
   "cell_type": "markdown",
   "metadata": {
    "id": "uZIXTxF-GNp2"
   },
   "source": [
    "## Diagonal"
   ]
  },
  {
   "cell_type": "code",
   "execution_count": 8,
   "metadata": {
    "id": "aXWgRcxHGxaE"
   },
   "outputs": [],
   "source": [
    "# setup command\n",
    "cmd_setup =\"\"\"\\\n",
    "import numpy as np\n",
    "import cupy as cp\n",
    "import pylops\n",
    "n = int(1e6)\n",
    "d = np.arange(n) + 1.\n",
    "y = x = np.ones(n)\n",
    "yc = xc = cp.ones(n)\n",
    "Op = pylops.Diagonal(d)\n",
    "cOp = pylops.Diagonal(cp.array(d))\n",
    "\"\"\"\n",
    "\n",
    "df = timing(cmd_setup, df, 'Diagonal')"
   ]
  },
  {
   "cell_type": "markdown",
   "metadata": {
    "id": "ibe5oiJjQbYx"
   },
   "source": [
    "## Matrix Multiplication"
   ]
  },
  {
   "cell_type": "code",
   "execution_count": 9,
   "metadata": {
    "id": "zLcsPQuSKREi"
   },
   "outputs": [],
   "source": [
    "# setup command\n",
    "cmd_setup =\"\"\"\\\n",
    "import numpy as np\n",
    "import cupy as cp\n",
    "import pylops\n",
    "n = 1000\n",
    "D = np.ones((n, n))\n",
    "y = x = np.ones(n)\n",
    "yc = xc = cp.ones(n)\n",
    "Op = pylops.MatrixMult(D)\n",
    "cOp = pylops.MatrixMult(cp.array(D))\n",
    "\"\"\"\n",
    "\n",
    "df = timing(cmd_setup, df, 'MatrixMult')"
   ]
  },
  {
   "cell_type": "markdown",
   "metadata": {
    "id": "ArXNiAVEGn0W"
   },
   "source": [
    "## Identity"
   ]
  },
  {
   "cell_type": "code",
   "execution_count": 10,
   "metadata": {
    "id": "5AKKVy6vGlw8"
   },
   "outputs": [],
   "source": [
    "# setup command\n",
    "cmd_setup =\"\"\"\\\n",
    "import numpy as np\n",
    "import cupy as cp\n",
    "import pylops\n",
    "n = int(1e6)\n",
    "x = np.ones(n//2)\n",
    "xc = cp.ones(n//2)\n",
    "y = np.ones(n)\n",
    "yc = cp.ones(n)\n",
    "Op = pylops.Identity(n, n//2)\n",
    "cOp = pylops.Identity(n, n//2)\n",
    "\"\"\"\n",
    "\n",
    "df = timing(cmd_setup, df, 'Identity')"
   ]
  },
  {
   "cell_type": "markdown",
   "metadata": {
    "id": "duzvLYbhKutX"
   },
   "source": [
    "## Zero"
   ]
  },
  {
   "cell_type": "code",
   "execution_count": 11,
   "metadata": {
    "id": "NvS0uZJGKuCU"
   },
   "outputs": [],
   "source": [
    "# setup command\n",
    "cmd_setup =\"\"\"\\\n",
    "import numpy as np\n",
    "import cupy as cp\n",
    "import pylops\n",
    "ny, nx = int(1e6), int(1e6)\n",
    "y = x = cp.arange(nx)\n",
    "yc = xc = cp.ones(nx)\n",
    "Op = pylops.Zero(ny, nx)\n",
    "cOp = pylops.Zero(ny, nx)\n",
    "\"\"\"\n",
    "\n",
    "df = timing(cmd_setup, df, 'Zero')"
   ]
  },
  {
   "cell_type": "markdown",
   "metadata": {
    "id": "HFjgyviFPo0p"
   },
   "source": [
    "## Sum"
   ]
  },
  {
   "cell_type": "code",
   "execution_count": 12,
   "metadata": {
    "id": "zIzjLLvZKuAl"
   },
   "outputs": [],
   "source": [
    "# setup command\n",
    "cmd_setup =\"\"\"\\\n",
    "import numpy as np\n",
    "import cupy as cp\n",
    "import pylops\n",
    "ny, nx = 1000, 1000\n",
    "x = np.ones(nx*ny)\n",
    "xc = cp.ones(nx*ny)\n",
    "y = np.ones(nx)\n",
    "yc = cp.ones(nx)\n",
    "Op = pylops.Sum(dims=(ny, nx), dir=0)\n",
    "cOp = pylops.Sum(dims=(ny, nx), dir=0)\n",
    "\"\"\"\n",
    "df = timing(cmd_setup, df, 'Sum')"
   ]
  },
  {
   "cell_type": "markdown",
   "metadata": {
    "id": "nljZK0xESzTt"
   },
   "source": [
    "## First Derivative"
   ]
  },
  {
   "cell_type": "code",
   "execution_count": 13,
   "metadata": {
    "id": "M4-NfcOaSzwD"
   },
   "outputs": [],
   "source": [
    "# setup command\n",
    "cmd_setup =\"\"\"\\\n",
    "import numpy as np\n",
    "import cupy as cp\n",
    "import pylops\n",
    "ny, nx = 1000, 1000\n",
    "x = np.ones(nx*ny)\n",
    "xc = cp.ones(nx*ny)\n",
    "y = np.ones(nx*ny)\n",
    "yc = cp.ones(nx*ny)\n",
    "Op = pylops.FirstDerivative(ny*nx, (ny, nx), dir=-1, edge=True)\n",
    "cOp = pylops.FirstDerivative(ny*nx, (ny, nx), dir=-1, edge=True)\n",
    "\"\"\"\n",
    "df = timing(cmd_setup, df, 'FirstDerivative')"
   ]
  },
  {
   "cell_type": "markdown",
   "metadata": {
    "id": "RGSUZAwQUlxH"
   },
   "source": [
    "## Second Derivative"
   ]
  },
  {
   "cell_type": "code",
   "execution_count": 14,
   "metadata": {
    "id": "1YYLU1zaUlZj"
   },
   "outputs": [],
   "source": [
    "# setup command\n",
    "cmd_setup =\"\"\"\\\n",
    "import numpy as np\n",
    "import cupy as cp\n",
    "import pylops\n",
    "ny, nx = 1000, 1000\n",
    "x = np.ones(nx*ny)\n",
    "xc = cp.ones(nx*ny)\n",
    "y = np.ones(nx*ny)\n",
    "yc = cp.ones(nx*ny)\n",
    "Op = pylops.SecondDerivative(ny*nx, (ny, nx), dir=-1, edge=True)\n",
    "cOp = pylops.SecondDerivative(ny*nx, (ny, nx), dir=-1, edge=True)\n",
    "\"\"\"\n",
    "df = timing(cmd_setup, df, 'SecondDerivative')"
   ]
  },
  {
   "cell_type": "markdown",
   "metadata": {
    "id": "Jm0s1WeXUlB2"
   },
   "source": [
    "## Laplacian"
   ]
  },
  {
   "cell_type": "code",
   "execution_count": 15,
   "metadata": {
    "id": "wmfnD1vWUyKR"
   },
   "outputs": [],
   "source": [
    "# setup command\n",
    "cmd_setup =\"\"\"\\\n",
    "import numpy as np\n",
    "import cupy as cp\n",
    "import pylops\n",
    "ny, nx = 1000, 1000\n",
    "x = np.ones(nx*ny)\n",
    "xc = cp.ones(nx*ny)\n",
    "y = np.ones(nx*ny)\n",
    "yc = cp.ones(nx*ny)\n",
    "Op = pylops.Laplacian((ny, nx), edge=True)\n",
    "cOp = pylops.Laplacian((ny, nx), edge=True)\n",
    "\"\"\"\n",
    "df = timing(cmd_setup, df, 'Laplacian')"
   ]
  },
  {
   "cell_type": "markdown",
   "metadata": {
    "id": "Ai_p16-fUk3Z"
   },
   "source": [
    "## Gradient"
   ]
  },
  {
   "cell_type": "code",
   "execution_count": 16,
   "metadata": {
    "id": "Md2WUqaCVwch"
   },
   "outputs": [],
   "source": [
    "# setup command\n",
    "cmd_setup =\"\"\"\\\n",
    "import numpy as np\n",
    "import cupy as cp\n",
    "import pylops\n",
    "ny, nx = 1000, 1000\n",
    "x = np.ones(nx*ny)\n",
    "xc = cp.ones(nx*ny)\n",
    "y = np.ones(nx*ny)\n",
    "yc = cp.ones(nx*ny)\n",
    "Op = pylops.Laplacian((ny, nx), edge=True)\n",
    "cOp = pylops.Laplacian((ny, nx), edge=True)\n",
    "\"\"\"\n",
    "df = timing(cmd_setup, df, 'Gradient')"
   ]
  },
  {
   "cell_type": "markdown",
   "metadata": {
    "id": "LhV7dzXWV_h5"
   },
   "source": [
    "## Causal Integration"
   ]
  },
  {
   "cell_type": "code",
   "execution_count": 17,
   "metadata": {
    "id": "1LN5uCZuWFQi"
   },
   "outputs": [],
   "source": [
    "# setup command\n",
    "cmd_setup =\"\"\"\\\n",
    "import numpy as np\n",
    "import cupy as cp\n",
    "import pylops\n",
    "ny, nx = 1000, 1000\n",
    "x = np.ones(nx*ny)\n",
    "xc = cp.ones(nx*ny)\n",
    "y = np.ones(nx*ny)\n",
    "yc = cp.ones(nx*ny)\n",
    "Op = pylops.CausalIntegration(ny*nx, (ny, nx), dir=1)\n",
    "cOp = pylops.CausalIntegration(ny*nx, (ny, nx), dir=1)\n",
    "\"\"\"\n",
    "df = timing(cmd_setup, df, 'CausalIntegration')"
   ]
  },
  {
   "cell_type": "markdown",
   "metadata": {
    "id": "y2N7wZjSV_eb"
   },
   "source": [
    "## Flip"
   ]
  },
  {
   "cell_type": "code",
   "execution_count": 18,
   "metadata": {
    "id": "eS4SXDlZXXkz"
   },
   "outputs": [],
   "source": [
    "# setup command\n",
    "cmd_setup =\"\"\"\\\n",
    "import numpy as np\n",
    "import cupy as cp\n",
    "import pylops\n",
    "ny, nx = 1000, 1000\n",
    "x = np.ones(nx*ny)\n",
    "xc = cp.ones(nx*ny)\n",
    "y = np.ones(nx*ny)\n",
    "yc = cp.ones(nx*ny)\n",
    "Op = pylops.Flip(ny*nx, (ny, nx), dir=1)\n",
    "cOp = pylops.Flip(ny*nx, (ny, nx), dir=1)\n",
    "\"\"\"\n",
    "df = timing(cmd_setup, df, 'Flip')"
   ]
  },
  {
   "cell_type": "markdown",
   "metadata": {
    "id": "sl0SCAfQV_Zc"
   },
   "source": [
    "## Pad"
   ]
  },
  {
   "cell_type": "code",
   "execution_count": 19,
   "metadata": {
    "id": "YrzNIQTOY4tx"
   },
   "outputs": [],
   "source": [
    "# setup command\n",
    "cmd_setup =\"\"\"\\\n",
    "import numpy as np\n",
    "import cupy as cp\n",
    "import pylops\n",
    "n = int(1e6)\n",
    "pad = (200, 200)\n",
    "x = np.ones(n)\n",
    "xc = cp.ones(n)\n",
    "y = np.ones(n + 400)\n",
    "yc = cp.ones(n + 400)\n",
    "Op = pylops.Pad(n, pad)\n",
    "cOp = pylops.Pad(n, pad)\n",
    "\"\"\"\n",
    "df = timing(cmd_setup, df, 'Pad')"
   ]
  },
  {
   "cell_type": "markdown",
   "metadata": {
    "id": "ONLcerOaaYsQ"
   },
   "source": [
    "## Roll"
   ]
  },
  {
   "cell_type": "code",
   "execution_count": 20,
   "metadata": {
    "id": "uWDPIb05aZJq"
   },
   "outputs": [],
   "source": [
    "# setup command\n",
    "cmd_setup =\"\"\"\\\n",
    "import numpy as np\n",
    "import cupy as cp\n",
    "import pylops\n",
    "n = int(1e6)\n",
    "x = np.ones(n)\n",
    "xc = cp.ones(n)\n",
    "y = np.ones(n)\n",
    "yc = cp.ones(n)\n",
    "Op = pylops.Roll(n, shift=20)\n",
    "cOp = pylops.Roll(n, shift=20)\n",
    "\"\"\"\n",
    "df = timing(cmd_setup, df, 'Roll')"
   ]
  },
  {
   "cell_type": "markdown",
   "metadata": {
    "id": "eAWELYq3asum"
   },
   "source": [
    "## Symmetrize\n"
   ]
  },
  {
   "cell_type": "code",
   "execution_count": 21,
   "metadata": {
    "id": "BObcCFDVatoP"
   },
   "outputs": [],
   "source": [
    "# setup command\n",
    "cmd_setup =\"\"\"\\\n",
    "import numpy as np\n",
    "import cupy as cp\n",
    "import pylops\n",
    "n = int(1e6)\n",
    "x = np.ones(n)\n",
    "xc = cp.ones(n)\n",
    "y = np.ones(n*2-1)\n",
    "yc = cp.ones(n*2-1)\n",
    "Op = pylops.Symmetrize(n)\n",
    "cOp = pylops.Symmetrize(n)\n",
    "\"\"\"\n",
    "df = timing(cmd_setup, df, 'Symmetrize')"
   ]
  },
  {
   "cell_type": "markdown",
   "metadata": {
    "id": "zkVlMj9SasfC"
   },
   "source": [
    "## Restriction"
   ]
  },
  {
   "cell_type": "code",
   "execution_count": 22,
   "metadata": {
    "id": "s6-Ffu1Wat1S"
   },
   "outputs": [],
   "source": [
    "# setup command\n",
    "cmd_setup =\"\"\"\\\n",
    "import numpy as np\n",
    "import cupy as cp\n",
    "import pylops\n",
    "n = int(1e6)\n",
    "iava = np.arange(0,n,10)\n",
    "x = np.ones(n)\n",
    "xc = cp.ones(n)\n",
    "y = np.ones(n//10)\n",
    "yc = cp.ones(n//10)\n",
    "Op = pylops.Restriction(n, iava)\n",
    "cOp = pylops.Restriction(n, iava)\n",
    "\"\"\"\n",
    "df = timing(cmd_setup, df, 'Restriction')"
   ]
  },
  {
   "cell_type": "markdown",
   "metadata": {
    "id": "3q-Rb7MmasO9"
   },
   "source": [
    "## Transpose"
   ]
  },
  {
   "cell_type": "code",
   "execution_count": 23,
   "metadata": {
    "id": "-gLKFbUscj0r"
   },
   "outputs": [],
   "source": [
    "# setup command\n",
    "cmd_setup =\"\"\"\\\n",
    "import numpy as np\n",
    "import cupy as cp\n",
    "import pylops\n",
    "ny, nx = 1000, 1000\n",
    "x = np.ones(nx*ny)\n",
    "xc = cp.ones(nx*ny)\n",
    "y = np.ones(nx*ny)\n",
    "yc = cp.ones(nx*ny)\n",
    "Op = pylops.Transpose((ny, nx), axes=(1,0))\n",
    "cOp = pylops.Transpose((ny, nx), axes=(1,0))\n",
    "\"\"\"\n",
    "df = timing(cmd_setup, df, 'Transpose')"
   ]
  },
  {
   "cell_type": "markdown",
   "metadata": {
    "id": "Nj9Zru8SfT9B"
   },
   "source": [
    "## FFT"
   ]
  },
  {
   "cell_type": "code",
   "execution_count": 24,
   "metadata": {
    "id": "3rpDS-YEfYB4"
   },
   "outputs": [],
   "source": [
    "# setup command\n",
    "cmd_setup =\"\"\"\\\n",
    "import numpy as np\n",
    "import cupy as cp\n",
    "import pylops\n",
    "n = int(1e6)\n",
    "x = np.ones(n)\n",
    "xc = cp.ones(n)\n",
    "y = np.ones(n*2-1)\n",
    "yc = cp.ones(n*2-1)\n",
    "Op = pylops.signalprocessing.FFT(dims=[n], nfft=n)\n",
    "cOp = pylops.signalprocessing.FFT(dims=[n], nfft=n)\n",
    "\"\"\"\n",
    "df = timing(cmd_setup, df, 'FFT')"
   ]
  },
  {
   "cell_type": "markdown",
   "metadata": {
    "id": "gn4-QSi784RL"
   },
   "source": [
    "## FFT2D"
   ]
  },
  {
   "cell_type": "code",
   "execution_count": 25,
   "metadata": {
    "id": "ufrzvDrJ85Pk"
   },
   "outputs": [],
   "source": [
    "# setup command\n",
    "cmd_setup =\"\"\"\\\n",
    "import numpy as np\n",
    "import cupy as cp\n",
    "import pylops\n",
    "ny, nx = 1000, 1000\n",
    "x = np.ones(nx*ny)\n",
    "xc = cp.ones(nx*ny)\n",
    "y = np.ones(nx*ny)\n",
    "yc = cp.ones(nx*ny)\n",
    "Op = pylops.signalprocessing.FFT2D(dims=[ny, nx])\n",
    "cOp = pylops.signalprocessing.FFT2D(dims=[ny, nx])\n",
    "\"\"\"\n",
    "df = timing(cmd_setup, df, 'FFT2D')"
   ]
  },
  {
   "cell_type": "markdown",
   "metadata": {
    "id": "i4TWbT4kDLVe"
   },
   "source": [
    "## FFTND"
   ]
  },
  {
   "cell_type": "code",
   "execution_count": 26,
   "metadata": {
    "id": "gG1KBIspB4fy"
   },
   "outputs": [],
   "source": [
    "# setup command\n",
    "cmd_setup =\"\"\"\\\n",
    "import numpy as np\n",
    "import cupy as cp\n",
    "import pylops\n",
    "nz, ny, nx = 50, 100, 100\n",
    "x = np.ones(nz*nx*ny)\n",
    "xc = cp.ones(nz*nx*ny)\n",
    "y = np.ones(nz*nx*ny)\n",
    "yc = cp.ones(nz*nx*ny)\n",
    "Op = pylops.signalprocessing.FFTND(dims=[nz, ny, nx])\n",
    "cOp = pylops.signalprocessing.FFTND(dims=[nz, ny, nx])\n",
    "\"\"\"\n",
    "df = timing(cmd_setup, df, 'FFTND')"
   ]
  },
  {
   "cell_type": "markdown",
   "metadata": {
    "id": "nUZPKkGWDKsh"
   },
   "source": [
    "## Convolve 1D"
   ]
  },
  {
   "cell_type": "code",
   "execution_count": 27,
   "metadata": {
    "id": "XL2kapI0B5gc"
   },
   "outputs": [],
   "source": [
    "# setup command\n",
    "cmd_setup =\"\"\"\\\n",
    "import numpy as np\n",
    "import cupy as cp\n",
    "import pylops\n",
    "n = int(1e6)\n",
    "x = np.ones(n)\n",
    "xc = cp.ones(n)\n",
    "y = np.ones(n)\n",
    "yc = cp.ones(n)\n",
    "h = np.ones(25)\n",
    "hc = cp.ones(25)\n",
    "Op = pylops.signalprocessing.Convolve1D(n, h)\n",
    "cOp = pylops.signalprocessing.Convolve1D(n, hc)\n",
    "\"\"\"\n",
    "df = timing(cmd_setup, df, 'Convolve1D')"
   ]
  },
  {
   "cell_type": "markdown",
   "metadata": {
    "id": "Kt0tPxzvH40U"
   },
   "source": [
    "## Convolve2D"
   ]
  },
  {
   "cell_type": "code",
   "execution_count": 28,
   "metadata": {
    "id": "S0-QvuEYH60V"
   },
   "outputs": [],
   "source": [
    "# setup command\n",
    "cmd_setup =\"\"\"\\\n",
    "import numpy as np\n",
    "import cupy as cp\n",
    "import pylops\n",
    "nt, nx = 1000, 1000\n",
    "h = np.ones((5,5))\n",
    "hc = cp.ones((5,5))\n",
    "x = np.ones(nt*nx)\n",
    "xc = cp.ones(nt*nx)\n",
    "y = np.ones(nt*nx)\n",
    "yc = cp.ones(nt*nx)\n",
    "Op = pylops.signalprocessing.Convolve2D(nt*nx, h, (nt, nx))\n",
    "cOp = pylops.signalprocessing.Convolve2D(nt*nx, h, (nt, nx))\n",
    "\n",
    "\"\"\"\n",
    "df = timing(cmd_setup, df, 'Convolve2D')"
   ]
  },
  {
   "cell_type": "markdown",
   "metadata": {
    "id": "xqTlNhVWP6gm"
   },
   "source": [
    "## ConvolveND"
   ]
  },
  {
   "cell_type": "code",
   "execution_count": 29,
   "metadata": {
    "id": "svCfiUZSP59q"
   },
   "outputs": [],
   "source": [
    "# setup command\n",
    "cmd_setup =\"\"\"\\\n",
    "import numpy as np\n",
    "import cupy as cp\n",
    "import pylops\n",
    "nt, ny, nx = 100, 100, 100\n",
    "h = np.ones((10, 10, 10))\n",
    "hc = cp.ones((10,10))\n",
    "x = np.ones(nt*ny*nx)\n",
    "xc = cp.ones(nt*ny*nx)\n",
    "y = np.ones(nt*ny*nx)\n",
    "yc = cp.ones(nt*ny*nx)\n",
    "Op = pylops.signalprocessing.ConvolveND(nt*ny*nx, h, (nt, ny, nx))\n",
    "cOp = pylops.signalprocessing.ConvolveND(nt*ny*nx, h, (nt, ny, nx))\n",
    "\n",
    "\"\"\"\n",
    "df = timing(cmd_setup, df, 'ConvolveND')"
   ]
  },
  {
   "cell_type": "markdown",
   "metadata": {
    "id": "OEF5FBkbD8yV"
   },
   "source": [
    "## ChirpRadon2D"
   ]
  },
  {
   "cell_type": "code",
   "execution_count": 30,
   "metadata": {
    "id": "k1Z8uhXvD7QU"
   },
   "outputs": [],
   "source": [
    "# setup command\n",
    "cmd_setup =\"\"\"\\\n",
    "import numpy as np\n",
    "import cupy as cp\n",
    "import pylops\n",
    "nt, nh = 1000, 1000\n",
    "t = np.arange(nt)\n",
    "h = np.arange(nh)\n",
    "x = np.ones(nt*nh)\n",
    "xc = cp.ones(nt*nh)\n",
    "y = np.ones(nt*nh)\n",
    "yc = cp.ones(nt*nh)\n",
    "Op = pylops.signalprocessing.ChirpRadon2D(t, h, 0.001)\n",
    "cOp = pylops.signalprocessing.ChirpRadon2D(t, h, 0.001)\n",
    "\n",
    "\"\"\"\n",
    "df = timing(cmd_setup, df, 'ChirpRadon2D')"
   ]
  },
  {
   "cell_type": "markdown",
   "metadata": {
    "id": "bdCvRV9OH063"
   },
   "source": [
    "## ChirpRadon3D"
   ]
  },
  {
   "cell_type": "code",
   "execution_count": 31,
   "metadata": {
    "id": "I9GSSGtJFr76"
   },
   "outputs": [],
   "source": [
    "# setup command\n",
    "cmd_setup =\"\"\"\\\n",
    "import numpy as np\n",
    "import cupy as cp\n",
    "import pylops\n",
    "nt, nh1, nh2 = 100, 100, 100\n",
    "t = np.arange(nt)\n",
    "h1 = np.arange(nh1)\n",
    "h2 = np.arange(nh2)\n",
    "x = np.ones(nt*nh1*nh2)\n",
    "xc = cp.ones(nt*nh1*nh2)\n",
    "y = np.ones(nt*nh1*nh2)\n",
    "yc = cp.ones(nt*nh1*nh2)\n",
    "Op = pylops.signalprocessing.ChirpRadon3D(t, h1, h2, (0.001, 0.001), engine='fftw')\n",
    "cOp = pylops.signalprocessing.ChirpRadon3D(t, h1, h2, (0.001, 0.001))\n",
    "\n",
    "\"\"\"\n",
    "df = timing(cmd_setup, df, 'ChirpRadon3D')"
   ]
  },
  {
   "cell_type": "markdown",
   "metadata": {
    "id": "xjqCp8z1QsnO"
   },
   "source": [
    "## Interp"
   ]
  },
  {
   "cell_type": "code",
   "execution_count": 32,
   "metadata": {
    "id": "sZHAHHM4QtCr"
   },
   "outputs": [],
   "source": [
    "# setup command\n",
    "cmd_setup =\"\"\"\\\n",
    "import numpy as np\n",
    "import cupy as cp\n",
    "import pylops\n",
    "n = int(1e6)\n",
    "iava = np.arange(0,n,10) + 0.5\n",
    "x = np.ones(n)\n",
    "xc = cp.ones(n)\n",
    "y = np.ones(n//10)\n",
    "yc = cp.ones(n//10)\n",
    "Op = pylops.signalprocessing.Interp(n, iava, kind='nearest')[0]\n",
    "cOp = pylops.signalprocessing.Interp(n, iava, kind='nearest')[0]\n",
    "\"\"\"\n",
    "df = timing(cmd_setup, df, 'Interp')"
   ]
  },
  {
   "cell_type": "markdown",
   "metadata": {
    "id": "ngmQilEJRy_4"
   },
   "source": [
    "## Bilinear"
   ]
  },
  {
   "cell_type": "code",
   "execution_count": 33,
   "metadata": {
    "colab": {
     "base_uri": "https://localhost:8080/"
    },
    "id": "OPgPPYsFRzXW",
    "outputId": "17378301-3106-4981-afac-a3d5b8074ba5"
   },
   "outputs": [
    {
     "name": "stderr",
     "output_type": "stream",
     "text": [
      "/home/ravasim/miniconda3/envs/pylops_cupy_cusignal/lib/python3.8/site-packages/cupyx/_scatter.py:56: FutureWarning: Using a non-tuple sequence for multidimensional indexing is deprecated; use `arr[tuple(seq)]` instead of `arr[seq]`. In the future this will be interpreted as an array index, `arr[cupy.array(seq)]`, which will result either in an error or a different result.\n",
      "  a.scatter_add(slices, value)\n",
      "/home/ravasim/Documents/OpenSource/pylops/pylops/signalprocessing/Bilinear.py:122: FutureWarning: Using a non-tuple sequence for multidimensional indexing is deprecated; use `arr[tuple(seq)]` instead of `arr[seq]`. In the future this will be interpreted as an array index, `arr[np.array(seq)]`, which will result either in an error or a different result.\n",
      "  ncp_add_at(y, [self.iava_t, self.iava_l],\n",
      "/home/ravasim/Documents/OpenSource/pylops/pylops/signalprocessing/Bilinear.py:124: FutureWarning: Using a non-tuple sequence for multidimensional indexing is deprecated; use `arr[tuple(seq)]` instead of `arr[seq]`. In the future this will be interpreted as an array index, `arr[np.array(seq)]`, which will result either in an error or a different result.\n",
      "  ncp_add_at(y, [self.iava_t, self.iava_r],\n",
      "/home/ravasim/Documents/OpenSource/pylops/pylops/signalprocessing/Bilinear.py:126: FutureWarning: Using a non-tuple sequence for multidimensional indexing is deprecated; use `arr[tuple(seq)]` instead of `arr[seq]`. In the future this will be interpreted as an array index, `arr[np.array(seq)]`, which will result either in an error or a different result.\n",
      "  ncp_add_at(y, [self.iava_b, self.iava_l],\n",
      "/home/ravasim/Documents/OpenSource/pylops/pylops/signalprocessing/Bilinear.py:128: FutureWarning: Using a non-tuple sequence for multidimensional indexing is deprecated; use `arr[tuple(seq)]` instead of `arr[seq]`. In the future this will be interpreted as an array index, `arr[np.array(seq)]`, which will result either in an error or a different result.\n",
      "  ncp_add_at(y, [self.iava_b, self.iava_r],\n"
     ]
    }
   ],
   "source": [
    "# setup command\n",
    "cmd_setup =\"\"\"\\\n",
    "import numpy as np\n",
    "import cupy as cp\n",
    "import pylops\n",
    "nt, nx = 1000, 1000\n",
    "#iava = np.vstack((np.arange(0,nt,2),\n",
    "#                  np.arange(0,nx,2)))\n",
    "iava = np.vstack((np.hstack([i * np.ones(100) for i in range(nt-1)]),\n",
    "                  np.hstack([np.random.permutation(np.arange(100)) for i in range(nt-1)])))\n",
    "iavac = cp.asarray(iava)\n",
    "x = np.ones(nt*nx)\n",
    "xc = cp.ones(nt*nx)\n",
    "y = np.ones(iava.shape[1])\n",
    "yc = cp.ones(iava.shape[1])\n",
    "Op = pylops.signalprocessing.Bilinear(iava, (nt, nx))\n",
    "cOp = pylops.signalprocessing.Bilinear(iavac, (nt, nx))\n",
    "\"\"\"\n",
    "df = timing(cmd_setup, df, 'Bilinear')"
   ]
  },
  {
   "cell_type": "markdown",
   "metadata": {
    "id": "nYNEKpT3RymX"
   },
   "source": [
    "## Fredholm1"
   ]
  },
  {
   "cell_type": "code",
   "execution_count": 34,
   "metadata": {
    "id": "_1drzUZhUPB0"
   },
   "outputs": [],
   "source": [
    "# setup command\n",
    "cmd_setup =\"\"\"\\\n",
    "import numpy as np\n",
    "import cupy as cp\n",
    "import pylops\n",
    "nt, nh1, nh2, nz = 100, 50, 50, 20\n",
    "h = np.ones((nt, nh1, nh2))\n",
    "hc = cp.ones((nt, nh1, nh2))\n",
    "x = np.ones(nt*nh2*nz)\n",
    "xc = cp.ones(nt*nh2*nz)\n",
    "y = np.ones(nt*nh1*nz)\n",
    "yc = cp.ones(nt*nh1*nz)\n",
    "Op = pylops.signalprocessing.Fredholm1(h, nz)\n",
    "cOp = pylops.signalprocessing.Fredholm1(hc, nz)\n",
    "\"\"\"\n",
    "df = timing(cmd_setup, df, 'Fredholm1')"
   ]
  },
  {
   "cell_type": "code",
   "execution_count": 35,
   "metadata": {
    "id": "zUiGE2U0WiFI"
   },
   "outputs": [],
   "source": [
    "#df=df[df['Method']!='Bilinear']"
   ]
  },
  {
   "cell_type": "code",
   "execution_count": 36,
   "metadata": {
    "colab": {
     "base_uri": "https://localhost:8080/",
     "height": 629
    },
    "id": "9PHJ10Yx8MUw",
    "outputId": "7287731f-938a-4f42-d6e0-b24b217cae7d"
   },
   "outputs": [
    {
     "data": {
      "image/png": "[encoded data removed]",
      "text/plain": [
       "<Figure size 864x288 with 1 Axes>"
      ]
     },
     "metadata": {},
     "output_type": "display_data"
    },
    {
     "data": {
      "image/png": "[encoded data removed]",
      "text/plain": [
       "<Figure size 864x288 with 1 Axes>"
      ]
     },
     "metadata": {},
     "output_type": "display_data"
    }
   ],
   "source": [
    "fig, ax = plt.subplots(figsize=(12, 4))\n",
    "sns.barplot(x='Method', y='Time', hue='Backend', data=df[df['Forw']==True], palette=\"bright\")\n",
    "ax.set_xlabel('');\n",
    "ax.set_ylabel('Time (ms)')\n",
    "ax.set_title('Forward')\n",
    "ax.set_xticklabels(df['Method'].unique(),rotation=45, fontsize=9)\n",
    "\n",
    "fig, ax = plt.subplots(figsize=(12, 4))\n",
    "sns.barplot(x='Method', y='Time', hue='Backend', data=df[df['Forw']==False], palette=\"bright\")\n",
    "ax.set_xlabel('');\n",
    "ax.set_ylabel('Time (ms)')\n",
    "ax.set_title('Adjoint')\n",
    "ax.set_xticklabels(df['Method'].unique(),rotation=45, fontsize=9);"
   ]
  },
  {
   "cell_type": "code",
   "execution_count": 37,
   "metadata": {},
   "outputs": [
    {
     "data": {
      "image/png": "[encoded data removed]",
      "text/plain": [
       "<Figure size 1296x288 with 1 Axes>"
      ]
     },
     "metadata": {},
     "output_type": "display_data"
    }
   ],
   "source": [
    "df_np = df[df['Backend'] == 'np']\n",
    "df_cp = df[df['Backend'] == 'cp']\n",
    "\n",
    "df_speedup = df_np.groupby(['Method', 'Forw']).mean() / df_cp.groupby(['Method', 'Forw']).mean()\n",
    "df_speedup = pd.DataFrame(df_speedup.to_records())\n",
    "df_speedup['Forw'] = df_speedup['Forw'].map({True: 'Forw', False: 'Adj'})\n",
    "df_speedup = df_speedup.rename(columns={'Time': 'Speedup', 'Forw':'Kind'})\n",
    "\n",
    "fig, ax = plt.subplots(figsize=(18, 4))\n",
    "g = sns.barplot(x='Method', y='Speedup', hue='Kind', data=df_speedup, palette=\"bright\")\n",
    "g.set_yscale(\"log\")\n",
    "ax.set_xlabel('')\n",
    "ax.set_title('GPU Speed-up')\n",
    "ax.set_xticklabels(df_speedup['Method'].unique(),rotation=45, fontsize=9);\n",
    "\n",
    "plt.savefig('Speedup.eps', dpi=300, bbox_inches='tight')"
   ]
  },
  {
   "cell_type": "code",
   "execution_count": 38,
   "metadata": {
    "colab": {
     "base_uri": "https://localhost:8080/",
     "height": 1000
    },
    "id": "32LnopoUifer",
    "outputId": "9d6c5ac5-a87a-4a26-fa18-1b170fd91674"
   },
   "outputs": [
    {
     "name": "stdout",
     "output_type": "stream",
     "text": [
      "               Method  Kind     Speedup\n",
      "0            Bilinear   Adj   87.320490\n",
      "1            Bilinear  Forw   10.265064\n",
      "2   CausalIntegration   Adj   56.626825\n",
      "3   CausalIntegration  Forw   52.327019\n",
      "4        ChirpRadon2D   Adj   23.105806\n",
      "5        ChirpRadon2D  Forw   40.702982\n",
      "6        ChirpRadon3D   Adj   14.075977\n",
      "7        ChirpRadon3D  Forw   19.558677\n",
      "8          Convolve1D   Adj  300.081329\n",
      "9          Convolve1D  Forw  255.197904\n",
      "10         Convolve2D   Adj    6.790194\n",
      "11         Convolve2D  Forw   59.052445\n",
      "12         ConvolveND   Adj   16.766678\n",
      "13         ConvolveND  Forw   82.706551\n",
      "14           Diagonal   Adj  178.529788\n",
      "15           Diagonal  Forw  196.659363\n",
      "16                FFT   Adj  333.504175\n",
      "17                FFT  Forw  434.478695\n",
      "18              FFT2D   Adj   73.129410\n",
      "19              FFT2D  Forw  215.286123\n",
      "20              FFTND   Adj   54.184452\n",
      "21              FFTND  Forw  151.840721\n",
      "22    FirstDerivative   Adj   61.289490\n",
      "23    FirstDerivative  Forw   62.893917\n",
      "24               Flip   Adj   36.948576\n",
      "25               Flip  Forw   37.205458\n",
      "26          Fredholm1   Adj   10.324390\n",
      "27          Fredholm1  Forw   17.223799\n",
      "28           Gradient   Adj   16.123690\n",
      "29           Gradient  Forw   31.698659\n",
      "30           Identity   Adj    0.621425\n",
      "31           Identity  Forw   65.482733\n",
      "32             Interp   Adj    1.681032\n",
      "33             Interp  Forw    3.787271\n",
      "34          Laplacian   Adj   15.967672\n",
      "35          Laplacian  Forw   31.619879\n",
      "36         MatrixMult   Adj   34.752847\n",
      "37         MatrixMult  Forw    5.445526\n",
      "38                Pad   Adj   51.381740\n",
      "39                Pad  Forw   28.262812\n",
      "40        Restriction   Adj    1.395795\n",
      "41        Restriction  Forw    1.368300\n",
      "42               Roll   Adj   21.189911\n",
      "43               Roll  Forw   20.472498\n",
      "44   SecondDerivative   Adj   30.510026\n",
      "45   SecondDerivative  Forw   53.998740\n",
      "46                Sum   Adj   27.204947\n",
      "47                Sum  Forw   14.580669\n",
      "48         Symmetrize   Adj   78.697778\n",
      "49         Symmetrize  Forw   92.585928\n",
      "50          Transpose   Adj  112.991058\n",
      "51          Transpose  Forw   87.142365\n",
      "52               Zero   Adj    0.947535\n",
      "53               Zero  Forw    0.962258\n"
     ]
    }
   ],
   "source": [
    "print(df_speedup)"
   ]
  },
  {
   "cell_type": "code",
   "execution_count": 39,
   "metadata": {
    "colab": {
     "base_uri": "https://localhost:8080/"
    },
    "id": "OXC5MSx6_8Qj",
    "outputId": "414b5d04-919f-4508-ecbc-367620ab528b"
   },
   "outputs": [
    {
     "name": "stdout",
     "output_type": "stream",
     "text": [
      "Average speed-up operators 68.8694332140358\n"
     ]
    }
   ],
   "source": [
    "print('Average speed-up operators', np.mean(df_speedup['Speedup']))"
   ]
  },
  {
   "cell_type": "markdown",
   "metadata": {
    "id": "QOjsRcOZVWdv"
   },
   "source": [
    "# Composite operators"
   ]
  },
  {
   "cell_type": "markdown",
   "metadata": {
    "id": "ypKYKn2xVf-j"
   },
   "source": [
    "## PoststackLinearModelling"
   ]
  },
  {
   "cell_type": "code",
   "execution_count": 59,
   "metadata": {
    "id": "TCB_3cKoVe6z"
   },
   "outputs": [],
   "source": [
    "df_comp = pd.DataFrame(columns=['Method', 'Forw', 'Backend', 'Time'])\n",
    "\n",
    "number, repeat = 10, 5"
   ]
  },
  {
   "cell_type": "code",
   "execution_count": 60,
   "metadata": {
    "id": "De3htGLkVeXu"
   },
   "outputs": [],
   "source": [
    "# setup command\n",
    "cmd_setup =\"\"\"\\\n",
    "import numpy as np\n",
    "import cupy as cp\n",
    "import pylops\n",
    "wav = (pylops.utils.wavelets.ricker(np.arange(51)*0.004, 20)[0])\n",
    "wavc = cp.asarray(wav)\n",
    "nt, nx = 1000, 1000\n",
    "x = np.ones(nt*nx)\n",
    "xc = cp.ones(nt*nx)\n",
    "y = np.ones(nt*nx)\n",
    "yc = cp.ones(nt*nx)\n",
    "Op = pylops.avo.poststack.PoststackLinearModelling(wav, nt, nx)\n",
    "cOp = pylops.avo.poststack.PoststackLinearModelling(wavc, nt, nx)\n",
    "\"\"\"\n",
    "df_comp = pd.DataFrame(columns=['Method', 'Forw', 'Backend', 'Time'])\n",
    "df_comp = timing(cmd_setup, df_comp, 'PoststackLinearModelling_2D', number=number, repeat=repeat)"
   ]
  },
  {
   "cell_type": "code",
   "execution_count": 61,
   "metadata": {
    "id": "1IQDRKt7W5Jm"
   },
   "outputs": [],
   "source": [
    "# setup command\n",
    "cmd_setup =\"\"\"\\\n",
    "import numpy as np\n",
    "import cupy as cp\n",
    "import pylops\n",
    "wav = (pylops.utils.wavelets.ricker(np.arange(51)*0.004, 20)[0])\n",
    "wavc = cp.asarray(wav)\n",
    "nt, nx, ny = 1000, 10, 100\n",
    "x = np.ones(nt*nx*ny)\n",
    "xc = cp.ones(nt*nx*ny)\n",
    "y = np.ones(nt*nx*ny)\n",
    "yc = cp.ones(nt*nx*ny)\n",
    "Op = pylops.avo.poststack.PoststackLinearModelling(wav, nt, (nx, ny))\n",
    "cOp = pylops.avo.poststack.PoststackLinearModelling(wavc, nt, (nx, ny))\n",
    "\"\"\"\n",
    "df_comp = timing(cmd_setup, df_comp, 'PoststackLinearModelling_3D', number=number, repeat=repeat)"
   ]
  },
  {
   "cell_type": "markdown",
   "metadata": {
    "id": "-CriBZEOrjgu"
   },
   "source": [
    "## PrestackLinearModelling"
   ]
  },
  {
   "cell_type": "code",
   "execution_count": 62,
   "metadata": {
    "id": "kdZOonVurkUG"
   },
   "outputs": [],
   "source": [
    "# setup command\n",
    "cmd_setup =\"\"\"\\\n",
    "import numpy as np\n",
    "import cupy as cp\n",
    "import pylops\n",
    "wav = (pylops.utils.wavelets.ricker(np.arange(51)*0.004, 20)[0])\n",
    "wavc = cp.asarray(wav)\n",
    "theta = np.arange(0, 30, 5.)\n",
    "thetac = cp.arange(0, 30, 5.)\n",
    "ntheta = len(theta)\n",
    "nt, nx = 1000, 1000\n",
    "x = np.ones(nt*nx*3)\n",
    "xc = cp.ones(nt*nx*3)\n",
    "y = np.ones(nt*nx*ntheta)\n",
    "yc = cp.ones(nt*nx*ntheta)\n",
    "Op = pylops.avo.prestack.PrestackLinearModelling(wav, theta, 0.5, nt, nx)\n",
    "cOp = pylops.avo.prestack.PrestackLinearModelling(wavc, thetac, 0.5, nt, nx)\n",
    "\"\"\"\n",
    "df_comp = timing(cmd_setup, df_comp, 'PrestackLinearModelling_2D', number=number, repeat=repeat)"
   ]
  },
  {
   "cell_type": "code",
   "execution_count": 63,
   "metadata": {
    "id": "7s-ZX1HFqUIh"
   },
   "outputs": [],
   "source": [
    "# setup command\n",
    "cmd_setup =\"\"\"\\\n",
    "import numpy as np\n",
    "import cupy as cp\n",
    "import pylops\n",
    "wav = (pylops.utils.wavelets.ricker(np.arange(51)*0.004, 20)[0])\n",
    "wavc = cp.asarray(wav)\n",
    "theta = np.arange(0, 30, 5.)\n",
    "thetac = cp.arange(0, 30, 5.)\n",
    "ntheta = len(theta)\n",
    "nt, nx, ny = 1000, 10, 100\n",
    "x = np.ones(nt*nx*ny*3)\n",
    "xc = cp.ones(nt*nx*ny*3)\n",
    "y = np.ones(nt*nx*ny*ntheta)\n",
    "yc = cp.ones(nt*nx*ny*ntheta)\n",
    "Op = pylops.avo.prestack.PrestackLinearModelling(wav, theta, 0.5, nt, (nx, ny))\n",
    "cOp = pylops.avo.prestack.PrestackLinearModelling(wavc, thetac, 0.5, nt, (nx, ny))\n",
    "\"\"\"\n",
    "df_comp = timing(cmd_setup, df_comp, 'PrestackLinearModelling_3D', number=number, repeat=repeat)"
   ]
  },
  {
   "cell_type": "code",
   "execution_count": 64,
   "metadata": {
    "colab": {
     "base_uri": "https://localhost:8080/",
     "height": 699
    },
    "id": "bsLfyVD3hSHL",
    "outputId": "c1e399c1-d702-44bc-ffd7-61900129ad3e"
   },
   "outputs": [
    {
     "data": {
      "image/png": "[encoded data removed]",
      "text/plain": [
       "<Figure size 864x288 with 1 Axes>"
      ]
     },
     "metadata": {},
     "output_type": "display_data"
    },
    {
     "data": {
      "image/png": "[encoded data removed]",
      "text/plain": [
       "<Figure size 864x288 with 1 Axes>"
      ]
     },
     "metadata": {},
     "output_type": "display_data"
    }
   ],
   "source": [
    "fig, ax = plt.subplots(figsize=(12, 4))\n",
    "sns.barplot(x='Method', y='Time', hue='Backend', data=df_comp[df_comp['Forw']==True], palette=\"dark\")\n",
    "ax.set_xlabel('');\n",
    "ax.set_ylabel('Time (ms)')\n",
    "ax.set_title('Forward')\n",
    "ax.set_xticklabels(df_comp['Method'].unique(),rotation=45, fontsize=9)\n",
    "\n",
    "fig, ax = plt.subplots(figsize=(12, 4))\n",
    "sns.barplot(x='Method', y='Time', hue='Backend', data=df_comp[df_comp['Forw']==False], palette=\"dark\")\n",
    "ax.set_xlabel('');\n",
    "ax.set_ylabel('Time (ms)')\n",
    "ax.set_title('Adjoint')\n",
    "ax.set_xticklabels(df_comp['Method'].unique(),rotation=45, fontsize=9);"
   ]
  },
  {
   "cell_type": "code",
   "execution_count": 65,
   "metadata": {
    "colab": {
     "base_uri": "https://localhost:8080/",
     "height": 358
    },
    "id": "Y4p74WSshXBq",
    "outputId": "5e4a2600-fe5d-4822-e2b4-4436170c3854"
   },
   "outputs": [],
   "source": [
    "df_comp_np = df_comp[df_comp['Backend'] == 'np']\n",
    "df_comp_cp = df_comp[df_comp['Backend'] == 'cp']\n",
    "\n",
    "df_comp_speedup = df_comp_np.groupby(['Method', 'Forw']).mean() / df_comp_cp.groupby(['Method', 'Forw']).mean()\n",
    "df_comp_speedup = pd.DataFrame(df_comp_speedup.to_records())\n",
    "df_comp_speedup['Forw'] = df_comp_speedup['Forw'].map({True: 'Forw', False: 'Adj'})\n",
    "df_comp_speedup = df_comp_speedup.rename(columns={'Time': 'Speedup', 'Forw':'Kind'})"
   ]
  },
  {
   "cell_type": "code",
   "execution_count": 66,
   "metadata": {
    "colab": {
     "base_uri": "https://localhost:8080/",
     "height": 297
    },
    "id": "qyMJgyErhcx0",
    "outputId": "10a6c54b-4cb8-44c1-d7f4-fb07ec867c9d"
   },
   "outputs": [
    {
     "name": "stdout",
     "output_type": "stream",
     "text": [
      "                        Method  Kind    Speedup\n",
      "0  PoststackLinearModelling_2D   Adj   4.213610\n",
      "1  PoststackLinearModelling_2D  Forw  12.606533\n",
      "2  PoststackLinearModelling_3D   Adj   5.551755\n",
      "3  PoststackLinearModelling_3D  Forw   9.629610\n",
      "4   PrestackLinearModelling_2D   Adj  10.137013\n",
      "5   PrestackLinearModelling_2D  Forw  19.663094\n",
      "6   PrestackLinearModelling_3D   Adj   7.766390\n",
      "7   PrestackLinearModelling_3D  Forw  12.713874\n"
     ]
    }
   ],
   "source": [
    "print(df_comp_speedup)"
   ]
  },
  {
   "cell_type": "code",
   "execution_count": 67,
   "metadata": {
    "colab": {
     "base_uri": "https://localhost:8080/"
    },
    "id": "Ji5cwmcOj55V",
    "outputId": "bd14065b-bc0b-4964-a298-7b8332afa016"
   },
   "outputs": [
    {
     "name": "stdout",
     "output_type": "stream",
     "text": [
      "Average speed-up Convmodelling 10.28523492566096\n"
     ]
    }
   ],
   "source": [
    "print('Average speed-up Convmodelling', np.mean(df_comp_speedup['Speedup']))"
   ]
  },
  {
   "cell_type": "markdown",
   "metadata": {
    "id": "HJR0G6lfpp_n"
   },
   "source": [
    "## PhaseShift"
   ]
  },
  {
   "cell_type": "code",
   "execution_count": 68,
   "metadata": {
    "id": "jax4v2yuh1Ko"
   },
   "outputs": [],
   "source": [
    "df_comp = pd.DataFrame(columns=['Method', 'Forw', 'Backend', 'Time'])\n",
    "\n",
    "number, repeat = 10, 5"
   ]
  },
  {
   "cell_type": "code",
   "execution_count": 69,
   "metadata": {
    "id": "HSM3rELdtOoQ"
   },
   "outputs": [],
   "source": [
    "# setup command\n",
    "cmd_setup =\"\"\"\\\n",
    "import numpy as np\n",
    "import cupy as cp\n",
    "import pylops\n",
    "vel = 1500.\n",
    "zprop = 100\n",
    "pad = 11\n",
    "nt, dt = 1000, 0.004\n",
    "nx, dx = 1000, 10\n",
    "freq = np.fft.rfftfreq(nt, dt)\n",
    "kx = np.fft.fftshift(np.fft.fftfreq(nx + 2*pad, dx))\n",
    "x = np.ones(nt*(nx+2*pad))\n",
    "xc = cp.ones(nt*(nx+2*pad))\n",
    "y = np.ones(nt*(nx+2*pad))\n",
    "yc = cp.ones(nt*(nx+2*pad))\n",
    "Op = pylops.waveeqprocessing.PhaseShift(vel, zprop, nt, freq, kx)\n",
    "cOp = pylops.waveeqprocessing.PhaseShift(vel, zprop, nt, cp.asarray(freq), cp.asarray(kx))\n",
    "\"\"\"\n",
    "df_comp = timing(cmd_setup, df_comp, 'PhaseShift_2D', number=number, repeat=repeat)"
   ]
  },
  {
   "cell_type": "code",
   "execution_count": 70,
   "metadata": {
    "id": "2kgyreMlpwC3"
   },
   "outputs": [],
   "source": [
    "# setup command\n",
    "cmd_setup =\"\"\"\\\n",
    "import numpy as np\n",
    "import cupy as cp\n",
    "import pylops\n",
    "vel = 1500.\n",
    "zprop = 100\n",
    "pad = 11\n",
    "nt, dt = 100, 0.004\n",
    "nx, dx = 100, 10\n",
    "ny, dy = 100, 10\n",
    "freq = np.fft.rfftfreq(nt, dt)\n",
    "kx = np.fft.fftshift(np.fft.fftfreq(nx + 2*pad, dx))\n",
    "ky = np.fft.fftshift(np.fft.fftfreq(ny + 2*pad, dy))\n",
    "x = np.ones(nt*(nx+2*pad)*(ny+2*pad))\n",
    "xc = cp.ones(nt*(nx+2*pad)*(ny+2*pad))\n",
    "y = np.ones(nt*(nx+2*pad)*(ny+2*pad))\n",
    "yc = cp.ones(nt*(nx+2*pad)*(ny+2*pad))\n",
    "Op = pylops.waveeqprocessing.PhaseShift(vel, zprop, nt, freq, kx, ky)\n",
    "cOp = pylops.waveeqprocessing.PhaseShift(vel, zprop, nt, cp.asarray(freq), cp.asarray(kx), cp.asarray(ky))\n",
    "\"\"\"\n",
    "df_comp = timing(cmd_setup, df_comp, 'PhaseShift_3D', number=number, repeat=repeat)"
   ]
  },
  {
   "cell_type": "code",
   "execution_count": 71,
   "metadata": {
    "id": "_20nIvi50hiJ"
   },
   "outputs": [],
   "source": [
    "#df_comp['Time'] /= 1000 # ms -> s"
   ]
  },
  {
   "cell_type": "code",
   "execution_count": 72,
   "metadata": {
    "colab": {
     "base_uri": "https://localhost:8080/",
     "height": 615
    },
    "id": "ToMVDR1IVj5y",
    "outputId": "b49dff0f-a230-40fa-f1de-3e69cb98b87b"
   },
   "outputs": [
    {
     "data": {
      "image/png": "[encoded data removed]",
      "text/plain": [
       "<Figure size 864x288 with 1 Axes>"
      ]
     },
     "metadata": {},
     "output_type": "display_data"
    },
    {
     "data": {
      "image/png": "[encoded data removed]",
      "text/plain": [
       "<Figure size 864x288 with 1 Axes>"
      ]
     },
     "metadata": {},
     "output_type": "display_data"
    }
   ],
   "source": [
    "fig, ax = plt.subplots(figsize=(12, 4))\n",
    "sns.barplot(x='Method', y='Time', hue='Backend', data=df_comp[df_comp['Forw']==True], palette=\"bright\")\n",
    "ax.set_xlabel('');\n",
    "ax.set_ylabel('Time (ms)')\n",
    "ax.set_title('Forward')\n",
    "ax.set_xticklabels(df_comp['Method'].unique(),rotation=45, fontsize=9)\n",
    "\n",
    "fig, ax = plt.subplots(figsize=(12, 4))\n",
    "sns.barplot(x='Method', y='Time', hue='Backend', data=df_comp[df_comp['Forw']==False], palette=\"bright\")\n",
    "ax.set_xlabel('');\n",
    "ax.set_ylabel('Time (ms)')\n",
    "ax.set_title('Adjoint')\n",
    "ax.set_xticklabels(df_comp['Method'].unique(),rotation=45, fontsize=9);"
   ]
  },
  {
   "cell_type": "code",
   "execution_count": 73,
   "metadata": {
    "colab": {
     "base_uri": "https://localhost:8080/",
     "height": 316
    },
    "id": "NnE1FGJlUAGU",
    "outputId": "fe59b034-150d-4425-a980-f3904d9b8633"
   },
   "outputs": [],
   "source": [
    "df_comp_np = df_comp[df_comp['Backend'] == 'np']\n",
    "df_comp_cp = df_comp[df_comp['Backend'] == 'cp']\n",
    "\n",
    "df_comp_speedup1 = df_comp_np.groupby(['Method', 'Forw']).mean() / df_comp_cp.groupby(['Method', 'Forw']).mean()\n",
    "df_comp_speedup1 = pd.DataFrame(df_comp_speedup1.to_records())\n",
    "df_comp_speedup1['Forw'] = df_comp_speedup1['Forw'].map({True: 'Forw', False: 'Adj'})\n",
    "df_comp_speedup1 = df_comp_speedup1.rename(columns={'Time': 'Speedup', 'Forw':'Kind'})"
   ]
  },
  {
   "cell_type": "code",
   "execution_count": 74,
   "metadata": {
    "colab": {
     "base_uri": "https://localhost:8080/",
     "height": 173
    },
    "id": "uNXV8VlWYvWY",
    "outputId": "d184d22c-f4b7-454d-938c-ba6eb425597c"
   },
   "outputs": [
    {
     "name": "stdout",
     "output_type": "stream",
     "text": [
      "          Method  Kind     Speedup\n",
      "0  PhaseShift_2D   Adj   77.415956\n",
      "1  PhaseShift_2D  Forw  103.284773\n",
      "2  PhaseShift_3D   Adj  169.239121\n",
      "3  PhaseShift_3D  Forw  203.486204\n"
     ]
    }
   ],
   "source": [
    "print(df_comp_speedup1)"
   ]
  },
  {
   "cell_type": "code",
   "execution_count": 75,
   "metadata": {
    "colab": {
     "base_uri": "https://localhost:8080/"
    },
    "id": "lqyLABHlknAS",
    "outputId": "75beb40c-fb21-4099-b110-c4baff4f048f"
   },
   "outputs": [
    {
     "name": "stdout",
     "output_type": "stream",
     "text": [
      "Average speed-up Phase shift 138.35651343699814\n"
     ]
    }
   ],
   "source": [
    "print('Average speed-up Phase shift', np.mean(df_comp_speedup1['Speedup']))"
   ]
  },
  {
   "cell_type": "code",
   "execution_count": 76,
   "metadata": {},
   "outputs": [
    {
     "data": {
      "image/png": "[encoded data removed]",
      "text/plain": [
       "<Figure size 1080x288 with 2 Axes>"
      ]
     },
     "metadata": {},
     "output_type": "display_data"
    }
   ],
   "source": [
    "fig, axs = plt.subplots(1, 2, figsize=(15, 4))\n",
    "sns.barplot(x='Method', y='Speedup', hue='Kind', data=df_comp_speedup, palette=\"bright\", ax=axs[0])\n",
    "axs[0].set_xlabel('')\n",
    "axs[0].set_title('Convolutional Modelling')\n",
    "axs[0].set_xticklabels(df_comp_speedup['Method'].unique(),rotation=45, fontsize=9);\n",
    "sns.barplot(x='Method', y='Speedup', hue='Kind', data=df_comp_speedup1, palette=\"bright\", ax=axs[1])\n",
    "axs[1].set_xlabel('')\n",
    "axs[1].set_title('Phase-Shift Modelling')\n",
    "axs[1].set_xticklabels(df_comp_speedup1['Method'].unique(),rotation=45, fontsize=9);\n",
    "\n",
    "plt.savefig('Speedup_composite.eps', dpi=300, bbox_inches='tight')"
   ]
  }
 ],
 "metadata": {
  "accelerator": "GPU",
  "colab": {
   "collapsed_sections": [],
   "name": "Cupy_PYLOPS_timing.ipynb",
   "provenance": [],
   "toc_visible": true
  },
  "kernelspec": {
   "display_name": "Python 3",
   "language": "python",
   "name": "python3"
  },
  "language_info": {
   "codemirror_mode": {
    "name": "ipython",
    "version": 3
   },
   "file_extension": ".py",
   "mimetype": "text/x-python",
   "name": "python",
   "nbconvert_exporter": "python",
   "pygments_lexer": "ipython3",
   "version": "3.8.5"
  }
 },
 "nbformat": 4,
 "nbformat_minor": 1
}
